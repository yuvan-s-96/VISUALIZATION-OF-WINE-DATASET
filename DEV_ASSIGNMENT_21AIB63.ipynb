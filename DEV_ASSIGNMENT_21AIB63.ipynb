{
  "nbformat": 4,
  "nbformat_minor": 0,
  "metadata": {
    "colab": {
      "provenance": []
    },
    "kernelspec": {
      "name": "python3",
      "display_name": "Python 3"
    },
    "language_info": {
      "name": "python"
    }
  },
  "cells": [
    {
      "cell_type": "code",
      "execution_count": 1,
      "metadata": {
        "id": "93roUfJRBuuO"
      },
      "outputs": [],
      "source": [
        "import pandas as pd\n",
        "import matplotlib.pyplot as plt\n",
        "import seaborn as sns"
      ]
    },
    {
      "cell_type": "code",
      "source": [
        "df=pd.read_csv('/content/winequalityN.csv')\n",
        "df1=df.head(100)\n",
        "df1"
      ],
      "metadata": {
        "colab": {
          "base_uri": "https://localhost:8080/",
          "height": 485
        },
        "id": "tVB2o8UQBxU7",
        "outputId": "42580192-6af4-456e-ce47-77ce0c042451"
      },
      "execution_count": 41,
      "outputs": [
        {
          "output_type": "execute_result",
          "data": {
            "text/plain": [
              "     type  fixed acidity  volatile acidity  citric acid  residual sugar  \\\n",
              "0   white            7.0             0.270         0.36            20.7   \n",
              "1   white            6.3             0.300         0.34             1.6   \n",
              "2   white            8.1             0.280         0.40             6.9   \n",
              "3   white            7.2             0.230         0.32             8.5   \n",
              "4   white            7.2             0.230         0.32             8.5   \n",
              "..    ...            ...               ...          ...             ...   \n",
              "95  white            7.1             0.260         0.29            12.4   \n",
              "96  white            6.0             0.340         0.66            15.9   \n",
              "97  white            8.6             0.265         0.36             1.2   \n",
              "98  white            9.8             0.360         0.46            10.5   \n",
              "99  white            6.0             0.340         0.66            15.9   \n",
              "\n",
              "    chlorides  free sulfur dioxide  total sulfur dioxide  density    pH  \\\n",
              "0       0.045                 45.0                 170.0   1.0010  3.00   \n",
              "1       0.049                 14.0                 132.0   0.9940  3.30   \n",
              "2       0.050                 30.0                  97.0   0.9951  3.26   \n",
              "3       0.058                 47.0                 186.0   0.9956  3.19   \n",
              "4       0.058                 47.0                 186.0   0.9956  3.19   \n",
              "..        ...                  ...                   ...      ...   ...   \n",
              "95      0.044                 62.0                 240.0   0.9969  3.04   \n",
              "96      0.046                 26.0                 164.0   0.9979  3.14   \n",
              "97      0.034                 15.0                  80.0   0.9913  2.95   \n",
              "98        NaN                  4.0                  83.0   0.9956  2.89   \n",
              "99      0.046                 26.0                 164.0   0.9979  3.14   \n",
              "\n",
              "    sulphates  alcohol  quality  \n",
              "0        0.45      8.8        6  \n",
              "1        0.49      9.5        6  \n",
              "2        0.44     10.1        6  \n",
              "3        0.40      9.9        6  \n",
              "4        0.40      9.9        6  \n",
              "..        ...      ...      ...  \n",
              "95       0.42      9.2        6  \n",
              "96       0.50      8.8        6  \n",
              "97       0.36     11.4        7  \n",
              "98       0.30     10.1        4  \n",
              "99       0.50      8.8        6  \n",
              "\n",
              "[100 rows x 13 columns]"
            ],
            "text/html": [
              "\n",
              "  <div id=\"df-d0e4e53e-63b0-4343-a8da-79c223cfe4db\">\n",
              "    <div class=\"colab-df-container\">\n",
              "      <div>\n",
              "<style scoped>\n",
              "    .dataframe tbody tr th:only-of-type {\n",
              "        vertical-align: middle;\n",
              "    }\n",
              "\n",
              "    .dataframe tbody tr th {\n",
              "        vertical-align: top;\n",
              "    }\n",
              "\n",
              "    .dataframe thead th {\n",
              "        text-align: right;\n",
              "    }\n",
              "</style>\n",
              "<table border=\"1\" class=\"dataframe\">\n",
              "  <thead>\n",
              "    <tr style=\"text-align: right;\">\n",
              "      <th></th>\n",
              "      <th>type</th>\n",
              "      <th>fixed acidity</th>\n",
              "      <th>volatile acidity</th>\n",
              "      <th>citric acid</th>\n",
              "      <th>residual sugar</th>\n",
              "      <th>chlorides</th>\n",
              "      <th>free sulfur dioxide</th>\n",
              "      <th>total sulfur dioxide</th>\n",
              "      <th>density</th>\n",
              "      <th>pH</th>\n",
              "      <th>sulphates</th>\n",
              "      <th>alcohol</th>\n",
              "      <th>quality</th>\n",
              "    </tr>\n",
              "  </thead>\n",
              "  <tbody>\n",
              "    <tr>\n",
              "      <th>0</th>\n",
              "      <td>white</td>\n",
              "      <td>7.0</td>\n",
              "      <td>0.270</td>\n",
              "      <td>0.36</td>\n",
              "      <td>20.7</td>\n",
              "      <td>0.045</td>\n",
              "      <td>45.0</td>\n",
              "      <td>170.0</td>\n",
              "      <td>1.0010</td>\n",
              "      <td>3.00</td>\n",
              "      <td>0.45</td>\n",
              "      <td>8.8</td>\n",
              "      <td>6</td>\n",
              "    </tr>\n",
              "    <tr>\n",
              "      <th>1</th>\n",
              "      <td>white</td>\n",
              "      <td>6.3</td>\n",
              "      <td>0.300</td>\n",
              "      <td>0.34</td>\n",
              "      <td>1.6</td>\n",
              "      <td>0.049</td>\n",
              "      <td>14.0</td>\n",
              "      <td>132.0</td>\n",
              "      <td>0.9940</td>\n",
              "      <td>3.30</td>\n",
              "      <td>0.49</td>\n",
              "      <td>9.5</td>\n",
              "      <td>6</td>\n",
              "    </tr>\n",
              "    <tr>\n",
              "      <th>2</th>\n",
              "      <td>white</td>\n",
              "      <td>8.1</td>\n",
              "      <td>0.280</td>\n",
              "      <td>0.40</td>\n",
              "      <td>6.9</td>\n",
              "      <td>0.050</td>\n",
              "      <td>30.0</td>\n",
              "      <td>97.0</td>\n",
              "      <td>0.9951</td>\n",
              "      <td>3.26</td>\n",
              "      <td>0.44</td>\n",
              "      <td>10.1</td>\n",
              "      <td>6</td>\n",
              "    </tr>\n",
              "    <tr>\n",
              "      <th>3</th>\n",
              "      <td>white</td>\n",
              "      <td>7.2</td>\n",
              "      <td>0.230</td>\n",
              "      <td>0.32</td>\n",
              "      <td>8.5</td>\n",
              "      <td>0.058</td>\n",
              "      <td>47.0</td>\n",
              "      <td>186.0</td>\n",
              "      <td>0.9956</td>\n",
              "      <td>3.19</td>\n",
              "      <td>0.40</td>\n",
              "      <td>9.9</td>\n",
              "      <td>6</td>\n",
              "    </tr>\n",
              "    <tr>\n",
              "      <th>4</th>\n",
              "      <td>white</td>\n",
              "      <td>7.2</td>\n",
              "      <td>0.230</td>\n",
              "      <td>0.32</td>\n",
              "      <td>8.5</td>\n",
              "      <td>0.058</td>\n",
              "      <td>47.0</td>\n",
              "      <td>186.0</td>\n",
              "      <td>0.9956</td>\n",
              "      <td>3.19</td>\n",
              "      <td>0.40</td>\n",
              "      <td>9.9</td>\n",
              "      <td>6</td>\n",
              "    </tr>\n",
              "    <tr>\n",
              "      <th>...</th>\n",
              "      <td>...</td>\n",
              "      <td>...</td>\n",
              "      <td>...</td>\n",
              "      <td>...</td>\n",
              "      <td>...</td>\n",
              "      <td>...</td>\n",
              "      <td>...</td>\n",
              "      <td>...</td>\n",
              "      <td>...</td>\n",
              "      <td>...</td>\n",
              "      <td>...</td>\n",
              "      <td>...</td>\n",
              "      <td>...</td>\n",
              "    </tr>\n",
              "    <tr>\n",
              "      <th>95</th>\n",
              "      <td>white</td>\n",
              "      <td>7.1</td>\n",
              "      <td>0.260</td>\n",
              "      <td>0.29</td>\n",
              "      <td>12.4</td>\n",
              "      <td>0.044</td>\n",
              "      <td>62.0</td>\n",
              "      <td>240.0</td>\n",
              "      <td>0.9969</td>\n",
              "      <td>3.04</td>\n",
              "      <td>0.42</td>\n",
              "      <td>9.2</td>\n",
              "      <td>6</td>\n",
              "    </tr>\n",
              "    <tr>\n",
              "      <th>96</th>\n",
              "      <td>white</td>\n",
              "      <td>6.0</td>\n",
              "      <td>0.340</td>\n",
              "      <td>0.66</td>\n",
              "      <td>15.9</td>\n",
              "      <td>0.046</td>\n",
              "      <td>26.0</td>\n",
              "      <td>164.0</td>\n",
              "      <td>0.9979</td>\n",
              "      <td>3.14</td>\n",
              "      <td>0.50</td>\n",
              "      <td>8.8</td>\n",
              "      <td>6</td>\n",
              "    </tr>\n",
              "    <tr>\n",
              "      <th>97</th>\n",
              "      <td>white</td>\n",
              "      <td>8.6</td>\n",
              "      <td>0.265</td>\n",
              "      <td>0.36</td>\n",
              "      <td>1.2</td>\n",
              "      <td>0.034</td>\n",
              "      <td>15.0</td>\n",
              "      <td>80.0</td>\n",
              "      <td>0.9913</td>\n",
              "      <td>2.95</td>\n",
              "      <td>0.36</td>\n",
              "      <td>11.4</td>\n",
              "      <td>7</td>\n",
              "    </tr>\n",
              "    <tr>\n",
              "      <th>98</th>\n",
              "      <td>white</td>\n",
              "      <td>9.8</td>\n",
              "      <td>0.360</td>\n",
              "      <td>0.46</td>\n",
              "      <td>10.5</td>\n",
              "      <td>NaN</td>\n",
              "      <td>4.0</td>\n",
              "      <td>83.0</td>\n",
              "      <td>0.9956</td>\n",
              "      <td>2.89</td>\n",
              "      <td>0.30</td>\n",
              "      <td>10.1</td>\n",
              "      <td>4</td>\n",
              "    </tr>\n",
              "    <tr>\n",
              "      <th>99</th>\n",
              "      <td>white</td>\n",
              "      <td>6.0</td>\n",
              "      <td>0.340</td>\n",
              "      <td>0.66</td>\n",
              "      <td>15.9</td>\n",
              "      <td>0.046</td>\n",
              "      <td>26.0</td>\n",
              "      <td>164.0</td>\n",
              "      <td>0.9979</td>\n",
              "      <td>3.14</td>\n",
              "      <td>0.50</td>\n",
              "      <td>8.8</td>\n",
              "      <td>6</td>\n",
              "    </tr>\n",
              "  </tbody>\n",
              "</table>\n",
              "<p>100 rows × 13 columns</p>\n",
              "</div>\n",
              "      <button class=\"colab-df-convert\" onclick=\"convertToInteractive('df-d0e4e53e-63b0-4343-a8da-79c223cfe4db')\"\n",
              "              title=\"Convert this dataframe to an interactive table.\"\n",
              "              style=\"display:none;\">\n",
              "        \n",
              "  <svg xmlns=\"http://www.w3.org/2000/svg\" height=\"24px\"viewBox=\"0 0 24 24\"\n",
              "       width=\"24px\">\n",
              "    <path d=\"M0 0h24v24H0V0z\" fill=\"none\"/>\n",
              "    <path d=\"M18.56 5.44l.94 2.06.94-2.06 2.06-.94-2.06-.94-.94-2.06-.94 2.06-2.06.94zm-11 1L8.5 8.5l.94-2.06 2.06-.94-2.06-.94L8.5 2.5l-.94 2.06-2.06.94zm10 10l.94 2.06.94-2.06 2.06-.94-2.06-.94-.94-2.06-.94 2.06-2.06.94z\"/><path d=\"M17.41 7.96l-1.37-1.37c-.4-.4-.92-.59-1.43-.59-.52 0-1.04.2-1.43.59L10.3 9.45l-7.72 7.72c-.78.78-.78 2.05 0 2.83L4 21.41c.39.39.9.59 1.41.59.51 0 1.02-.2 1.41-.59l7.78-7.78 2.81-2.81c.8-.78.8-2.07 0-2.86zM5.41 20L4 18.59l7.72-7.72 1.47 1.35L5.41 20z\"/>\n",
              "  </svg>\n",
              "      </button>\n",
              "      \n",
              "  <style>\n",
              "    .colab-df-container {\n",
              "      display:flex;\n",
              "      flex-wrap:wrap;\n",
              "      gap: 12px;\n",
              "    }\n",
              "\n",
              "    .colab-df-convert {\n",
              "      background-color: #E8F0FE;\n",
              "      border: none;\n",
              "      border-radius: 50%;\n",
              "      cursor: pointer;\n",
              "      display: none;\n",
              "      fill: #1967D2;\n",
              "      height: 32px;\n",
              "      padding: 0 0 0 0;\n",
              "      width: 32px;\n",
              "    }\n",
              "\n",
              "    .colab-df-convert:hover {\n",
              "      background-color: #E2EBFA;\n",
              "      box-shadow: 0px 1px 2px rgba(60, 64, 67, 0.3), 0px 1px 3px 1px rgba(60, 64, 67, 0.15);\n",
              "      fill: #174EA6;\n",
              "    }\n",
              "\n",
              "    [theme=dark] .colab-df-convert {\n",
              "      background-color: #3B4455;\n",
              "      fill: #D2E3FC;\n",
              "    }\n",
              "\n",
              "    [theme=dark] .colab-df-convert:hover {\n",
              "      background-color: #434B5C;\n",
              "      box-shadow: 0px 1px 3px 1px rgba(0, 0, 0, 0.15);\n",
              "      filter: drop-shadow(0px 1px 2px rgba(0, 0, 0, 0.3));\n",
              "      fill: #FFFFFF;\n",
              "    }\n",
              "  </style>\n",
              "\n",
              "      <script>\n",
              "        const buttonEl =\n",
              "          document.querySelector('#df-d0e4e53e-63b0-4343-a8da-79c223cfe4db button.colab-df-convert');\n",
              "        buttonEl.style.display =\n",
              "          google.colab.kernel.accessAllowed ? 'block' : 'none';\n",
              "\n",
              "        async function convertToInteractive(key) {\n",
              "          const element = document.querySelector('#df-d0e4e53e-63b0-4343-a8da-79c223cfe4db');\n",
              "          const dataTable =\n",
              "            await google.colab.kernel.invokeFunction('convertToInteractive',\n",
              "                                                     [key], {});\n",
              "          if (!dataTable) return;\n",
              "\n",
              "          const docLinkHtml = 'Like what you see? Visit the ' +\n",
              "            '<a target=\"_blank\" href=https://colab.research.google.com/notebooks/data_table.ipynb>data table notebook</a>'\n",
              "            + ' to learn more about interactive tables.';\n",
              "          element.innerHTML = '';\n",
              "          dataTable['output_type'] = 'display_data';\n",
              "          await google.colab.output.renderOutput(dataTable, element);\n",
              "          const docLink = document.createElement('div');\n",
              "          docLink.innerHTML = docLinkHtml;\n",
              "          element.appendChild(docLink);\n",
              "        }\n",
              "      </script>\n",
              "    </div>\n",
              "  </div>\n",
              "  "
            ]
          },
          "metadata": {},
          "execution_count": 41
        }
      ]
    },
    {
      "cell_type": "code",
      "source": [
        "df1.describe()"
      ],
      "metadata": {
        "colab": {
          "base_uri": "https://localhost:8080/",
          "height": 379
        },
        "id": "kCljP-gACDvc",
        "outputId": "633200a3-6deb-4151-c6fc-af0b7943394f"
      },
      "execution_count": 42,
      "outputs": [
        {
          "output_type": "execute_result",
          "data": {
            "text/plain": [
              "       fixed acidity  volatile acidity  citric acid  residual sugar  \\\n",
              "count      99.000000         99.000000   100.000000       99.000000   \n",
              "mean        6.998990          0.286919     0.348300        5.836364   \n",
              "std         0.691862          0.106267     0.128881        5.346775   \n",
              "min         5.800000          0.120000     0.030000        0.900000   \n",
              "25%         6.600000          0.230000     0.280000        1.400000   \n",
              "50%         7.000000          0.260000     0.340000        4.400000   \n",
              "75%         7.300000          0.320000     0.400000        8.900000   \n",
              "max         9.800000          0.670000     0.660000       20.700000   \n",
              "\n",
              "       chlorides  free sulfur dioxide  total sulfur dioxide     density  \\\n",
              "count  99.000000           100.000000            100.000000  100.000000   \n",
              "mean    0.052545            35.385000            140.305000    0.994222   \n",
              "std     0.022744            15.244945             43.044368    0.002728   \n",
              "min     0.029000             4.000000             47.000000    0.989200   \n",
              "25%     0.044000            25.000000            108.750000    0.992000   \n",
              "50%     0.047000            31.500000            142.000000    0.993950   \n",
              "75%     0.057000            47.000000            164.000000    0.996125   \n",
              "max     0.173000            81.000000            245.000000    1.001000   \n",
              "\n",
              "              pH   sulphates     alcohol     quality  \n",
              "count  99.000000  100.000000  100.000000  100.000000  \n",
              "mean    3.207273    0.466300   10.124000    5.940000  \n",
              "std     0.136261    0.093826    1.144431    0.826579  \n",
              "min     2.890000    0.280000    8.600000    4.000000  \n",
              "25%     3.120000    0.397500    9.300000    5.000000  \n",
              "50%     3.210000    0.460000    9.900000    6.000000  \n",
              "75%     3.300000    0.520000   10.800000    6.000000  \n",
              "max     3.690000    0.770000   12.800000    8.000000  "
            ],
            "text/html": [
              "\n",
              "  <div id=\"df-aaf470ba-8135-4213-842a-9dfda5f94075\">\n",
              "    <div class=\"colab-df-container\">\n",
              "      <div>\n",
              "<style scoped>\n",
              "    .dataframe tbody tr th:only-of-type {\n",
              "        vertical-align: middle;\n",
              "    }\n",
              "\n",
              "    .dataframe tbody tr th {\n",
              "        vertical-align: top;\n",
              "    }\n",
              "\n",
              "    .dataframe thead th {\n",
              "        text-align: right;\n",
              "    }\n",
              "</style>\n",
              "<table border=\"1\" class=\"dataframe\">\n",
              "  <thead>\n",
              "    <tr style=\"text-align: right;\">\n",
              "      <th></th>\n",
              "      <th>fixed acidity</th>\n",
              "      <th>volatile acidity</th>\n",
              "      <th>citric acid</th>\n",
              "      <th>residual sugar</th>\n",
              "      <th>chlorides</th>\n",
              "      <th>free sulfur dioxide</th>\n",
              "      <th>total sulfur dioxide</th>\n",
              "      <th>density</th>\n",
              "      <th>pH</th>\n",
              "      <th>sulphates</th>\n",
              "      <th>alcohol</th>\n",
              "      <th>quality</th>\n",
              "    </tr>\n",
              "  </thead>\n",
              "  <tbody>\n",
              "    <tr>\n",
              "      <th>count</th>\n",
              "      <td>99.000000</td>\n",
              "      <td>99.000000</td>\n",
              "      <td>100.000000</td>\n",
              "      <td>99.000000</td>\n",
              "      <td>99.000000</td>\n",
              "      <td>100.000000</td>\n",
              "      <td>100.000000</td>\n",
              "      <td>100.000000</td>\n",
              "      <td>99.000000</td>\n",
              "      <td>100.000000</td>\n",
              "      <td>100.000000</td>\n",
              "      <td>100.000000</td>\n",
              "    </tr>\n",
              "    <tr>\n",
              "      <th>mean</th>\n",
              "      <td>6.998990</td>\n",
              "      <td>0.286919</td>\n",
              "      <td>0.348300</td>\n",
              "      <td>5.836364</td>\n",
              "      <td>0.052545</td>\n",
              "      <td>35.385000</td>\n",
              "      <td>140.305000</td>\n",
              "      <td>0.994222</td>\n",
              "      <td>3.207273</td>\n",
              "      <td>0.466300</td>\n",
              "      <td>10.124000</td>\n",
              "      <td>5.940000</td>\n",
              "    </tr>\n",
              "    <tr>\n",
              "      <th>std</th>\n",
              "      <td>0.691862</td>\n",
              "      <td>0.106267</td>\n",
              "      <td>0.128881</td>\n",
              "      <td>5.346775</td>\n",
              "      <td>0.022744</td>\n",
              "      <td>15.244945</td>\n",
              "      <td>43.044368</td>\n",
              "      <td>0.002728</td>\n",
              "      <td>0.136261</td>\n",
              "      <td>0.093826</td>\n",
              "      <td>1.144431</td>\n",
              "      <td>0.826579</td>\n",
              "    </tr>\n",
              "    <tr>\n",
              "      <th>min</th>\n",
              "      <td>5.800000</td>\n",
              "      <td>0.120000</td>\n",
              "      <td>0.030000</td>\n",
              "      <td>0.900000</td>\n",
              "      <td>0.029000</td>\n",
              "      <td>4.000000</td>\n",
              "      <td>47.000000</td>\n",
              "      <td>0.989200</td>\n",
              "      <td>2.890000</td>\n",
              "      <td>0.280000</td>\n",
              "      <td>8.600000</td>\n",
              "      <td>4.000000</td>\n",
              "    </tr>\n",
              "    <tr>\n",
              "      <th>25%</th>\n",
              "      <td>6.600000</td>\n",
              "      <td>0.230000</td>\n",
              "      <td>0.280000</td>\n",
              "      <td>1.400000</td>\n",
              "      <td>0.044000</td>\n",
              "      <td>25.000000</td>\n",
              "      <td>108.750000</td>\n",
              "      <td>0.992000</td>\n",
              "      <td>3.120000</td>\n",
              "      <td>0.397500</td>\n",
              "      <td>9.300000</td>\n",
              "      <td>5.000000</td>\n",
              "    </tr>\n",
              "    <tr>\n",
              "      <th>50%</th>\n",
              "      <td>7.000000</td>\n",
              "      <td>0.260000</td>\n",
              "      <td>0.340000</td>\n",
              "      <td>4.400000</td>\n",
              "      <td>0.047000</td>\n",
              "      <td>31.500000</td>\n",
              "      <td>142.000000</td>\n",
              "      <td>0.993950</td>\n",
              "      <td>3.210000</td>\n",
              "      <td>0.460000</td>\n",
              "      <td>9.900000</td>\n",
              "      <td>6.000000</td>\n",
              "    </tr>\n",
              "    <tr>\n",
              "      <th>75%</th>\n",
              "      <td>7.300000</td>\n",
              "      <td>0.320000</td>\n",
              "      <td>0.400000</td>\n",
              "      <td>8.900000</td>\n",
              "      <td>0.057000</td>\n",
              "      <td>47.000000</td>\n",
              "      <td>164.000000</td>\n",
              "      <td>0.996125</td>\n",
              "      <td>3.300000</td>\n",
              "      <td>0.520000</td>\n",
              "      <td>10.800000</td>\n",
              "      <td>6.000000</td>\n",
              "    </tr>\n",
              "    <tr>\n",
              "      <th>max</th>\n",
              "      <td>9.800000</td>\n",
              "      <td>0.670000</td>\n",
              "      <td>0.660000</td>\n",
              "      <td>20.700000</td>\n",
              "      <td>0.173000</td>\n",
              "      <td>81.000000</td>\n",
              "      <td>245.000000</td>\n",
              "      <td>1.001000</td>\n",
              "      <td>3.690000</td>\n",
              "      <td>0.770000</td>\n",
              "      <td>12.800000</td>\n",
              "      <td>8.000000</td>\n",
              "    </tr>\n",
              "  </tbody>\n",
              "</table>\n",
              "</div>\n",
              "      <button class=\"colab-df-convert\" onclick=\"convertToInteractive('df-aaf470ba-8135-4213-842a-9dfda5f94075')\"\n",
              "              title=\"Convert this dataframe to an interactive table.\"\n",
              "              style=\"display:none;\">\n",
              "        \n",
              "  <svg xmlns=\"http://www.w3.org/2000/svg\" height=\"24px\"viewBox=\"0 0 24 24\"\n",
              "       width=\"24px\">\n",
              "    <path d=\"M0 0h24v24H0V0z\" fill=\"none\"/>\n",
              "    <path d=\"M18.56 5.44l.94 2.06.94-2.06 2.06-.94-2.06-.94-.94-2.06-.94 2.06-2.06.94zm-11 1L8.5 8.5l.94-2.06 2.06-.94-2.06-.94L8.5 2.5l-.94 2.06-2.06.94zm10 10l.94 2.06.94-2.06 2.06-.94-2.06-.94-.94-2.06-.94 2.06-2.06.94z\"/><path d=\"M17.41 7.96l-1.37-1.37c-.4-.4-.92-.59-1.43-.59-.52 0-1.04.2-1.43.59L10.3 9.45l-7.72 7.72c-.78.78-.78 2.05 0 2.83L4 21.41c.39.39.9.59 1.41.59.51 0 1.02-.2 1.41-.59l7.78-7.78 2.81-2.81c.8-.78.8-2.07 0-2.86zM5.41 20L4 18.59l7.72-7.72 1.47 1.35L5.41 20z\"/>\n",
              "  </svg>\n",
              "      </button>\n",
              "      \n",
              "  <style>\n",
              "    .colab-df-container {\n",
              "      display:flex;\n",
              "      flex-wrap:wrap;\n",
              "      gap: 12px;\n",
              "    }\n",
              "\n",
              "    .colab-df-convert {\n",
              "      background-color: #E8F0FE;\n",
              "      border: none;\n",
              "      border-radius: 50%;\n",
              "      cursor: pointer;\n",
              "      display: none;\n",
              "      fill: #1967D2;\n",
              "      height: 32px;\n",
              "      padding: 0 0 0 0;\n",
              "      width: 32px;\n",
              "    }\n",
              "\n",
              "    .colab-df-convert:hover {\n",
              "      background-color: #E2EBFA;\n",
              "      box-shadow: 0px 1px 2px rgba(60, 64, 67, 0.3), 0px 1px 3px 1px rgba(60, 64, 67, 0.15);\n",
              "      fill: #174EA6;\n",
              "    }\n",
              "\n",
              "    [theme=dark] .colab-df-convert {\n",
              "      background-color: #3B4455;\n",
              "      fill: #D2E3FC;\n",
              "    }\n",
              "\n",
              "    [theme=dark] .colab-df-convert:hover {\n",
              "      background-color: #434B5C;\n",
              "      box-shadow: 0px 1px 3px 1px rgba(0, 0, 0, 0.15);\n",
              "      filter: drop-shadow(0px 1px 2px rgba(0, 0, 0, 0.3));\n",
              "      fill: #FFFFFF;\n",
              "    }\n",
              "  </style>\n",
              "\n",
              "      <script>\n",
              "        const buttonEl =\n",
              "          document.querySelector('#df-aaf470ba-8135-4213-842a-9dfda5f94075 button.colab-df-convert');\n",
              "        buttonEl.style.display =\n",
              "          google.colab.kernel.accessAllowed ? 'block' : 'none';\n",
              "\n",
              "        async function convertToInteractive(key) {\n",
              "          const element = document.querySelector('#df-aaf470ba-8135-4213-842a-9dfda5f94075');\n",
              "          const dataTable =\n",
              "            await google.colab.kernel.invokeFunction('convertToInteractive',\n",
              "                                                     [key], {});\n",
              "          if (!dataTable) return;\n",
              "\n",
              "          const docLinkHtml = 'Like what you see? Visit the ' +\n",
              "            '<a target=\"_blank\" href=https://colab.research.google.com/notebooks/data_table.ipynb>data table notebook</a>'\n",
              "            + ' to learn more about interactive tables.';\n",
              "          element.innerHTML = '';\n",
              "          dataTable['output_type'] = 'display_data';\n",
              "          await google.colab.output.renderOutput(dataTable, element);\n",
              "          const docLink = document.createElement('div');\n",
              "          docLink.innerHTML = docLinkHtml;\n",
              "          element.appendChild(docLink);\n",
              "        }\n",
              "      </script>\n",
              "    </div>\n",
              "  </div>\n",
              "  "
            ]
          },
          "metadata": {},
          "execution_count": 42
        }
      ]
    },
    {
      "cell_type": "code",
      "source": [
        "df1.info()"
      ],
      "metadata": {
        "colab": {
          "base_uri": "https://localhost:8080/"
        },
        "id": "avMRijakCPBl",
        "outputId": "5b484106-4ca1-4094-87c2-b05b162b6f1b"
      },
      "execution_count": 43,
      "outputs": [
        {
          "output_type": "stream",
          "name": "stdout",
          "text": [
            "<class 'pandas.core.frame.DataFrame'>\n",
            "RangeIndex: 100 entries, 0 to 99\n",
            "Data columns (total 13 columns):\n",
            " #   Column                Non-Null Count  Dtype  \n",
            "---  ------                --------------  -----  \n",
            " 0   type                  100 non-null    object \n",
            " 1   fixed acidity         99 non-null     float64\n",
            " 2   volatile acidity      99 non-null     float64\n",
            " 3   citric acid           100 non-null    float64\n",
            " 4   residual sugar        99 non-null     float64\n",
            " 5   chlorides             99 non-null     float64\n",
            " 6   free sulfur dioxide   100 non-null    float64\n",
            " 7   total sulfur dioxide  100 non-null    float64\n",
            " 8   density               100 non-null    float64\n",
            " 9   pH                    99 non-null     float64\n",
            " 10  sulphates             100 non-null    float64\n",
            " 11  alcohol               100 non-null    float64\n",
            " 12  quality               100 non-null    int64  \n",
            "dtypes: float64(11), int64(1), object(1)\n",
            "memory usage: 10.3+ KB\n"
          ]
        }
      ]
    },
    {
      "cell_type": "code",
      "source": [
        "df1.shape"
      ],
      "metadata": {
        "colab": {
          "base_uri": "https://localhost:8080/"
        },
        "id": "FVgztsPZCWba",
        "outputId": "83105010-143f-4020-8d7d-09fa6517ca44"
      },
      "execution_count": 44,
      "outputs": [
        {
          "output_type": "execute_result",
          "data": {
            "text/plain": [
              "(100, 13)"
            ]
          },
          "metadata": {},
          "execution_count": 44
        }
      ]
    },
    {
      "cell_type": "code",
      "source": [
        "df1.nunique()\n"
      ],
      "metadata": {
        "colab": {
          "base_uri": "https://localhost:8080/"
        },
        "id": "VefW3CtfCa5-",
        "outputId": "324e24bd-c257-4c03-e3ba-b2139181c82b"
      },
      "execution_count": 45,
      "outputs": [
        {
          "output_type": "execute_result",
          "data": {
            "text/plain": [
              "type                     1\n",
              "fixed acidity           24\n",
              "volatile acidity        35\n",
              "citric acid             36\n",
              "residual sugar          49\n",
              "chlorides               40\n",
              "free sulfur dioxide     45\n",
              "total sulfur dioxide    70\n",
              "density                 51\n",
              "pH                      43\n",
              "sulphates               32\n",
              "alcohol                 37\n",
              "quality                  5\n",
              "dtype: int64"
            ]
          },
          "metadata": {},
          "execution_count": 45
        }
      ]
    },
    {
      "cell_type": "code",
      "source": [
        "df1.isnull().sum()"
      ],
      "metadata": {
        "colab": {
          "base_uri": "https://localhost:8080/"
        },
        "id": "p2F_OGcGCeGa",
        "outputId": "639922e4-c365-4b1e-caa7-33be9779e334"
      },
      "execution_count": 8,
      "outputs": [
        {
          "output_type": "execute_result",
          "data": {
            "text/plain": [
              "type                    0\n",
              "fixed acidity           5\n",
              "volatile acidity        1\n",
              "citric acid             1\n",
              "residual sugar          2\n",
              "chlorides               1\n",
              "free sulfur dioxide     0\n",
              "total sulfur dioxide    0\n",
              "density                 0\n",
              "pH                      3\n",
              "sulphates               1\n",
              "alcohol                 0\n",
              "quality                 0\n",
              "dtype: int64"
            ]
          },
          "metadata": {},
          "execution_count": 8
        }
      ]
    },
    {
      "cell_type": "code",
      "source": [
        "df1.dropna(inplace=True)\n",
        "df1"
      ],
      "metadata": {
        "colab": {
          "base_uri": "https://localhost:8080/",
          "height": 572
        },
        "id": "8MIBh4hmCiXJ",
        "outputId": "917df067-1b89-4125-8508-b873c1ed59ff"
      },
      "execution_count": 9,
      "outputs": [
        {
          "output_type": "stream",
          "name": "stderr",
          "text": [
            "/usr/local/lib/python3.7/dist-packages/pandas/util/_decorators.py:311: SettingWithCopyWarning: \n",
            "A value is trying to be set on a copy of a slice from a DataFrame\n",
            "\n",
            "See the caveats in the documentation: https://pandas.pydata.org/pandas-docs/stable/user_guide/indexing.html#returning-a-view-versus-a-copy\n",
            "  return func(*args, **kwargs)\n"
          ]
        },
        {
          "output_type": "execute_result",
          "data": {
            "text/plain": [
              "      type  fixed acidity  volatile acidity  citric acid  residual sugar  \\\n",
              "0    white            7.0             0.270         0.36            20.7   \n",
              "1    white            6.3             0.300         0.34             1.6   \n",
              "2    white            8.1             0.280         0.40             6.9   \n",
              "3    white            7.2             0.230         0.32             8.5   \n",
              "4    white            7.2             0.230         0.32             8.5   \n",
              "..     ...            ...               ...          ...             ...   \n",
              "495  white            5.7             0.440         0.13             7.0   \n",
              "496  white            7.2             0.400         0.62            10.8   \n",
              "497  white            6.8             0.230         0.32             1.6   \n",
              "498  white            5.7             0.335         0.34             1.0   \n",
              "499  white            7.2             0.400         0.62            10.8   \n",
              "\n",
              "     chlorides  free sulfur dioxide  total sulfur dioxide  density    pH  \\\n",
              "0        0.045                 45.0                 170.0   1.0010  3.00   \n",
              "1        0.049                 14.0                 132.0   0.9940  3.30   \n",
              "2        0.050                 30.0                  97.0   0.9951  3.26   \n",
              "3        0.058                 47.0                 186.0   0.9956  3.19   \n",
              "4        0.058                 47.0                 186.0   0.9956  3.19   \n",
              "..         ...                  ...                   ...      ...   ...   \n",
              "495      0.025                 28.0                 173.0   0.9913  3.33   \n",
              "496      0.041                 70.0                 189.0   0.9976  3.08   \n",
              "497      0.026                 43.0                 147.0   0.9904  3.29   \n",
              "498      0.040                 13.0                 174.0   0.9920  3.27   \n",
              "499      0.041                 70.0                 189.0   0.9976  3.08   \n",
              "\n",
              "     sulphates  alcohol  quality  \n",
              "0         0.45      8.8        6  \n",
              "1         0.49      9.5        6  \n",
              "2         0.44     10.1        6  \n",
              "3         0.40      9.9        6  \n",
              "4         0.40      9.9        6  \n",
              "..         ...      ...      ...  \n",
              "495       0.48     12.5        6  \n",
              "496       0.49      8.6        4  \n",
              "497       0.54     12.5        6  \n",
              "498       0.66     10.0        5  \n",
              "499       0.49      8.6        4  \n",
              "\n",
              "[486 rows x 13 columns]"
            ],
            "text/html": [
              "\n",
              "  <div id=\"df-2dce4c6d-7a09-4ba5-adf0-b00f60aa4148\">\n",
              "    <div class=\"colab-df-container\">\n",
              "      <div>\n",
              "<style scoped>\n",
              "    .dataframe tbody tr th:only-of-type {\n",
              "        vertical-align: middle;\n",
              "    }\n",
              "\n",
              "    .dataframe tbody tr th {\n",
              "        vertical-align: top;\n",
              "    }\n",
              "\n",
              "    .dataframe thead th {\n",
              "        text-align: right;\n",
              "    }\n",
              "</style>\n",
              "<table border=\"1\" class=\"dataframe\">\n",
              "  <thead>\n",
              "    <tr style=\"text-align: right;\">\n",
              "      <th></th>\n",
              "      <th>type</th>\n",
              "      <th>fixed acidity</th>\n",
              "      <th>volatile acidity</th>\n",
              "      <th>citric acid</th>\n",
              "      <th>residual sugar</th>\n",
              "      <th>chlorides</th>\n",
              "      <th>free sulfur dioxide</th>\n",
              "      <th>total sulfur dioxide</th>\n",
              "      <th>density</th>\n",
              "      <th>pH</th>\n",
              "      <th>sulphates</th>\n",
              "      <th>alcohol</th>\n",
              "      <th>quality</th>\n",
              "    </tr>\n",
              "  </thead>\n",
              "  <tbody>\n",
              "    <tr>\n",
              "      <th>0</th>\n",
              "      <td>white</td>\n",
              "      <td>7.0</td>\n",
              "      <td>0.270</td>\n",
              "      <td>0.36</td>\n",
              "      <td>20.7</td>\n",
              "      <td>0.045</td>\n",
              "      <td>45.0</td>\n",
              "      <td>170.0</td>\n",
              "      <td>1.0010</td>\n",
              "      <td>3.00</td>\n",
              "      <td>0.45</td>\n",
              "      <td>8.8</td>\n",
              "      <td>6</td>\n",
              "    </tr>\n",
              "    <tr>\n",
              "      <th>1</th>\n",
              "      <td>white</td>\n",
              "      <td>6.3</td>\n",
              "      <td>0.300</td>\n",
              "      <td>0.34</td>\n",
              "      <td>1.6</td>\n",
              "      <td>0.049</td>\n",
              "      <td>14.0</td>\n",
              "      <td>132.0</td>\n",
              "      <td>0.9940</td>\n",
              "      <td>3.30</td>\n",
              "      <td>0.49</td>\n",
              "      <td>9.5</td>\n",
              "      <td>6</td>\n",
              "    </tr>\n",
              "    <tr>\n",
              "      <th>2</th>\n",
              "      <td>white</td>\n",
              "      <td>8.1</td>\n",
              "      <td>0.280</td>\n",
              "      <td>0.40</td>\n",
              "      <td>6.9</td>\n",
              "      <td>0.050</td>\n",
              "      <td>30.0</td>\n",
              "      <td>97.0</td>\n",
              "      <td>0.9951</td>\n",
              "      <td>3.26</td>\n",
              "      <td>0.44</td>\n",
              "      <td>10.1</td>\n",
              "      <td>6</td>\n",
              "    </tr>\n",
              "    <tr>\n",
              "      <th>3</th>\n",
              "      <td>white</td>\n",
              "      <td>7.2</td>\n",
              "      <td>0.230</td>\n",
              "      <td>0.32</td>\n",
              "      <td>8.5</td>\n",
              "      <td>0.058</td>\n",
              "      <td>47.0</td>\n",
              "      <td>186.0</td>\n",
              "      <td>0.9956</td>\n",
              "      <td>3.19</td>\n",
              "      <td>0.40</td>\n",
              "      <td>9.9</td>\n",
              "      <td>6</td>\n",
              "    </tr>\n",
              "    <tr>\n",
              "      <th>4</th>\n",
              "      <td>white</td>\n",
              "      <td>7.2</td>\n",
              "      <td>0.230</td>\n",
              "      <td>0.32</td>\n",
              "      <td>8.5</td>\n",
              "      <td>0.058</td>\n",
              "      <td>47.0</td>\n",
              "      <td>186.0</td>\n",
              "      <td>0.9956</td>\n",
              "      <td>3.19</td>\n",
              "      <td>0.40</td>\n",
              "      <td>9.9</td>\n",
              "      <td>6</td>\n",
              "    </tr>\n",
              "    <tr>\n",
              "      <th>...</th>\n",
              "      <td>...</td>\n",
              "      <td>...</td>\n",
              "      <td>...</td>\n",
              "      <td>...</td>\n",
              "      <td>...</td>\n",
              "      <td>...</td>\n",
              "      <td>...</td>\n",
              "      <td>...</td>\n",
              "      <td>...</td>\n",
              "      <td>...</td>\n",
              "      <td>...</td>\n",
              "      <td>...</td>\n",
              "      <td>...</td>\n",
              "    </tr>\n",
              "    <tr>\n",
              "      <th>495</th>\n",
              "      <td>white</td>\n",
              "      <td>5.7</td>\n",
              "      <td>0.440</td>\n",
              "      <td>0.13</td>\n",
              "      <td>7.0</td>\n",
              "      <td>0.025</td>\n",
              "      <td>28.0</td>\n",
              "      <td>173.0</td>\n",
              "      <td>0.9913</td>\n",
              "      <td>3.33</td>\n",
              "      <td>0.48</td>\n",
              "      <td>12.5</td>\n",
              "      <td>6</td>\n",
              "    </tr>\n",
              "    <tr>\n",
              "      <th>496</th>\n",
              "      <td>white</td>\n",
              "      <td>7.2</td>\n",
              "      <td>0.400</td>\n",
              "      <td>0.62</td>\n",
              "      <td>10.8</td>\n",
              "      <td>0.041</td>\n",
              "      <td>70.0</td>\n",
              "      <td>189.0</td>\n",
              "      <td>0.9976</td>\n",
              "      <td>3.08</td>\n",
              "      <td>0.49</td>\n",
              "      <td>8.6</td>\n",
              "      <td>4</td>\n",
              "    </tr>\n",
              "    <tr>\n",
              "      <th>497</th>\n",
              "      <td>white</td>\n",
              "      <td>6.8</td>\n",
              "      <td>0.230</td>\n",
              "      <td>0.32</td>\n",
              "      <td>1.6</td>\n",
              "      <td>0.026</td>\n",
              "      <td>43.0</td>\n",
              "      <td>147.0</td>\n",
              "      <td>0.9904</td>\n",
              "      <td>3.29</td>\n",
              "      <td>0.54</td>\n",
              "      <td>12.5</td>\n",
              "      <td>6</td>\n",
              "    </tr>\n",
              "    <tr>\n",
              "      <th>498</th>\n",
              "      <td>white</td>\n",
              "      <td>5.7</td>\n",
              "      <td>0.335</td>\n",
              "      <td>0.34</td>\n",
              "      <td>1.0</td>\n",
              "      <td>0.040</td>\n",
              "      <td>13.0</td>\n",
              "      <td>174.0</td>\n",
              "      <td>0.9920</td>\n",
              "      <td>3.27</td>\n",
              "      <td>0.66</td>\n",
              "      <td>10.0</td>\n",
              "      <td>5</td>\n",
              "    </tr>\n",
              "    <tr>\n",
              "      <th>499</th>\n",
              "      <td>white</td>\n",
              "      <td>7.2</td>\n",
              "      <td>0.400</td>\n",
              "      <td>0.62</td>\n",
              "      <td>10.8</td>\n",
              "      <td>0.041</td>\n",
              "      <td>70.0</td>\n",
              "      <td>189.0</td>\n",
              "      <td>0.9976</td>\n",
              "      <td>3.08</td>\n",
              "      <td>0.49</td>\n",
              "      <td>8.6</td>\n",
              "      <td>4</td>\n",
              "    </tr>\n",
              "  </tbody>\n",
              "</table>\n",
              "<p>486 rows × 13 columns</p>\n",
              "</div>\n",
              "      <button class=\"colab-df-convert\" onclick=\"convertToInteractive('df-2dce4c6d-7a09-4ba5-adf0-b00f60aa4148')\"\n",
              "              title=\"Convert this dataframe to an interactive table.\"\n",
              "              style=\"display:none;\">\n",
              "        \n",
              "  <svg xmlns=\"http://www.w3.org/2000/svg\" height=\"24px\"viewBox=\"0 0 24 24\"\n",
              "       width=\"24px\">\n",
              "    <path d=\"M0 0h24v24H0V0z\" fill=\"none\"/>\n",
              "    <path d=\"M18.56 5.44l.94 2.06.94-2.06 2.06-.94-2.06-.94-.94-2.06-.94 2.06-2.06.94zm-11 1L8.5 8.5l.94-2.06 2.06-.94-2.06-.94L8.5 2.5l-.94 2.06-2.06.94zm10 10l.94 2.06.94-2.06 2.06-.94-2.06-.94-.94-2.06-.94 2.06-2.06.94z\"/><path d=\"M17.41 7.96l-1.37-1.37c-.4-.4-.92-.59-1.43-.59-.52 0-1.04.2-1.43.59L10.3 9.45l-7.72 7.72c-.78.78-.78 2.05 0 2.83L4 21.41c.39.39.9.59 1.41.59.51 0 1.02-.2 1.41-.59l7.78-7.78 2.81-2.81c.8-.78.8-2.07 0-2.86zM5.41 20L4 18.59l7.72-7.72 1.47 1.35L5.41 20z\"/>\n",
              "  </svg>\n",
              "      </button>\n",
              "      \n",
              "  <style>\n",
              "    .colab-df-container {\n",
              "      display:flex;\n",
              "      flex-wrap:wrap;\n",
              "      gap: 12px;\n",
              "    }\n",
              "\n",
              "    .colab-df-convert {\n",
              "      background-color: #E8F0FE;\n",
              "      border: none;\n",
              "      border-radius: 50%;\n",
              "      cursor: pointer;\n",
              "      display: none;\n",
              "      fill: #1967D2;\n",
              "      height: 32px;\n",
              "      padding: 0 0 0 0;\n",
              "      width: 32px;\n",
              "    }\n",
              "\n",
              "    .colab-df-convert:hover {\n",
              "      background-color: #E2EBFA;\n",
              "      box-shadow: 0px 1px 2px rgba(60, 64, 67, 0.3), 0px 1px 3px 1px rgba(60, 64, 67, 0.15);\n",
              "      fill: #174EA6;\n",
              "    }\n",
              "\n",
              "    [theme=dark] .colab-df-convert {\n",
              "      background-color: #3B4455;\n",
              "      fill: #D2E3FC;\n",
              "    }\n",
              "\n",
              "    [theme=dark] .colab-df-convert:hover {\n",
              "      background-color: #434B5C;\n",
              "      box-shadow: 0px 1px 3px 1px rgba(0, 0, 0, 0.15);\n",
              "      filter: drop-shadow(0px 1px 2px rgba(0, 0, 0, 0.3));\n",
              "      fill: #FFFFFF;\n",
              "    }\n",
              "  </style>\n",
              "\n",
              "      <script>\n",
              "        const buttonEl =\n",
              "          document.querySelector('#df-2dce4c6d-7a09-4ba5-adf0-b00f60aa4148 button.colab-df-convert');\n",
              "        buttonEl.style.display =\n",
              "          google.colab.kernel.accessAllowed ? 'block' : 'none';\n",
              "\n",
              "        async function convertToInteractive(key) {\n",
              "          const element = document.querySelector('#df-2dce4c6d-7a09-4ba5-adf0-b00f60aa4148');\n",
              "          const dataTable =\n",
              "            await google.colab.kernel.invokeFunction('convertToInteractive',\n",
              "                                                     [key], {});\n",
              "          if (!dataTable) return;\n",
              "\n",
              "          const docLinkHtml = 'Like what you see? Visit the ' +\n",
              "            '<a target=\"_blank\" href=https://colab.research.google.com/notebooks/data_table.ipynb>data table notebook</a>'\n",
              "            + ' to learn more about interactive tables.';\n",
              "          element.innerHTML = '';\n",
              "          dataTable['output_type'] = 'display_data';\n",
              "          await google.colab.output.renderOutput(dataTable, element);\n",
              "          const docLink = document.createElement('div');\n",
              "          docLink.innerHTML = docLinkHtml;\n",
              "          element.appendChild(docLink);\n",
              "        }\n",
              "      </script>\n",
              "    </div>\n",
              "  </div>\n",
              "  "
            ]
          },
          "metadata": {},
          "execution_count": 9
        }
      ]
    },
    {
      "cell_type": "code",
      "source": [
        "df1.isnull().sum()"
      ],
      "metadata": {
        "colab": {
          "base_uri": "https://localhost:8080/"
        },
        "id": "HOB8KcFJEBp7",
        "outputId": "17c2c1b1-0e1e-4196-875c-9bd8e91e5ff8"
      },
      "execution_count": 10,
      "outputs": [
        {
          "output_type": "execute_result",
          "data": {
            "text/plain": [
              "type                    0\n",
              "fixed acidity           0\n",
              "volatile acidity        0\n",
              "citric acid             0\n",
              "residual sugar          0\n",
              "chlorides               0\n",
              "free sulfur dioxide     0\n",
              "total sulfur dioxide    0\n",
              "density                 0\n",
              "pH                      0\n",
              "sulphates               0\n",
              "alcohol                 0\n",
              "quality                 0\n",
              "dtype: int64"
            ]
          },
          "metadata": {},
          "execution_count": 10
        }
      ]
    },
    {
      "cell_type": "markdown",
      "source": [
        "VISUALIZATION"
      ],
      "metadata": {
        "id": "JT_SEW9LEGfr"
      }
    },
    {
      "cell_type": "code",
      "source": [
        "plt.bar(df1['quality'],df1['alcohol'],color='black')\n",
        "plt.xlabel('Quality')\n",
        "plt.ylabel('Alcohol')"
      ],
      "metadata": {
        "colab": {
          "base_uri": "https://localhost:8080/",
          "height": 296
        },
        "id": "m0lqwR4wEK0G",
        "outputId": "ebd6868f-0db2-40e6-d448-6759382932aa"
      },
      "execution_count": 46,
      "outputs": [
        {
          "output_type": "execute_result",
          "data": {
            "text/plain": [
              "Text(0, 0.5, 'Alcohol')"
            ]
          },
          "metadata": {},
          "execution_count": 46
        },
        {
          "output_type": "display_data",
          "data": {
            "text/plain": [
              "<Figure size 432x288 with 1 Axes>"
            ],
            "image/png": "[encoded data removed]"
          },
          "metadata": {
            "needs_background": "light"
          }
        }
      ]
    },
    {
      "cell_type": "code",
      "source": [
        "df1.plot.area()"
      ],
      "metadata": {
        "colab": {
          "base_uri": "https://localhost:8080/",
          "height": 282
        },
        "id": "9mIHn1Y0EfYr",
        "outputId": "276cf425-dadb-4126-ed90-dc0ed5048761"
      },
      "execution_count": 47,
      "outputs": [
        {
          "output_type": "execute_result",
          "data": {
            "text/plain": [
              "<matplotlib.axes._subplots.AxesSubplot at 0x7f0b59865450>"
            ]
          },
          "metadata": {},
          "execution_count": 47
        },
        {
          "output_type": "display_data",
          "data": {
            "text/plain": [
              "<Figure size 432x288 with 1 Axes>"
            ],
            "image/png": "[encoded data removed]"
          },
          "metadata": {
            "needs_background": "light"
          }
        }
      ]
    },
    {
      "cell_type": "code",
      "source": [
        "plt.hist(df1['residual sugar'],color='purple',edgecolor='black')\n",
        "plt.title('Residual sugar')"
      ],
      "metadata": {
        "colab": {
          "base_uri": "https://localhost:8080/",
          "height": 298
        },
        "id": "Y3ZgtqMzFuQC",
        "outputId": "379f5377-0fd0-4e0e-b5cc-64f8978b55b7"
      },
      "execution_count": 48,
      "outputs": [
        {
          "output_type": "execute_result",
          "data": {
            "text/plain": [
              "Text(0.5, 1.0, 'Residual sugar')"
            ]
          },
          "metadata": {},
          "execution_count": 48
        },
        {
          "output_type": "display_data",
          "data": {
            "text/plain": [
              "<Figure size 432x288 with 1 Axes>"
            ],
            "image/png": "[encoded data removed]"
          },
          "metadata": {
            "needs_background": "light"
          }
        }
      ]
    },
    {
      "cell_type": "code",
      "source": [
        "plt.boxplot(df1['total sulfur dioxide'])\n",
        "plt.title('total sulfur dioxide')"
      ],
      "metadata": {
        "colab": {
          "base_uri": "https://localhost:8080/",
          "height": 298
        },
        "id": "OUbqlsnEGLvv",
        "outputId": "403a21e0-b725-45b7-b1b3-7eb6ac7349ed"
      },
      "execution_count": 49,
      "outputs": [
        {
          "output_type": "execute_result",
          "data": {
            "text/plain": [
              "Text(0.5, 1.0, 'total sulfur dioxide')"
            ]
          },
          "metadata": {},
          "execution_count": 49
        },
        {
          "output_type": "display_data",
          "data": {
            "text/plain": [
              "<Figure size 432x288 with 1 Axes>"
            ],
            "image/png": "[encoded data removed]"
          },
          "metadata": {
            "needs_background": "light"
          }
        }
      ]
    },
    {
      "cell_type": "code",
      "source": [
        "plt.scatter(df1['residual sugar'],df1['alcohol'],color='red')\n",
        "plt.xlabel('Residual sugar')\n",
        "plt.ylabel('Alcohol')"
      ],
      "metadata": {
        "colab": {
          "base_uri": "https://localhost:8080/",
          "height": 300
        },
        "id": "wVxrySI_Gorc",
        "outputId": "4df1c86b-486b-482d-8143-841e049d2a9c"
      },
      "execution_count": 50,
      "outputs": [
        {
          "output_type": "execute_result",
          "data": {
            "text/plain": [
              "Text(0, 0.5, 'Alcohol')"
            ]
          },
          "metadata": {},
          "execution_count": 50
        },
        {
          "output_type": "display_data",
          "data": {
            "text/plain": [
              "<Figure size 432x288 with 1 Axes>"
            ],
            "image/png": "[encoded data removed]"
          },
          "metadata": {
            "needs_background": "light"
          }
        }
      ]
    },
    {
      "cell_type": "code",
      "source": [
        "plt.plot(df1['alcohol'],label='alcohol')\n",
        "plt.legend()\n",
        "plt.title('Alcohol')\n"
      ],
      "metadata": {
        "colab": {
          "base_uri": "https://localhost:8080/",
          "height": 298
        },
        "id": "6Qx4bCr9G7-V",
        "outputId": "4a553474-5198-4b81-fc6e-58f7d4ae018c"
      },
      "execution_count": 51,
      "outputs": [
        {
          "output_type": "execute_result",
          "data": {
            "text/plain": [
              "Text(0.5, 1.0, 'Alcohol')"
            ]
          },
          "metadata": {},
          "execution_count": 51
        },
        {
          "output_type": "display_data",
          "data": {
            "text/plain": [
              "<Figure size 432x288 with 1 Axes>"
            ],
            "image/png": "[encoded data removed]"
          },
          "metadata": {
            "needs_background": "light"
          }
        }
      ]
    },
    {
      "cell_type": "code",
      "source": [
        "plt.polar(df1.pH)"
      ],
      "metadata": {
        "colab": {
          "base_uri": "https://localhost:8080/",
          "height": 303
        },
        "id": "stjzJjZEJwl4",
        "outputId": "937bd702-5711-4d5f-f909-b51bc2009215"
      },
      "execution_count": 52,
      "outputs": [
        {
          "output_type": "execute_result",
          "data": {
            "text/plain": [
              "[<matplotlib.lines.Line2D at 0x7f0b5869b710>]"
            ]
          },
          "metadata": {},
          "execution_count": 52
        },
        {
          "output_type": "display_data",
          "data": {
            "text/plain": [
              "<Figure size 432x288 with 1 Axes>"
            ],
            "image/png": "[encoded data removed]"
          },
          "metadata": {
            "needs_background": "light"
          }
        }
      ]
    },
    {
      "cell_type": "code",
      "source": [
        "df1.plot.bar(stacked=True)"
      ],
      "metadata": {
        "colab": {
          "base_uri": "https://localhost:8080/",
          "height": 285
        },
        "id": "YItbTX-LK5Wv",
        "outputId": "756fc3ff-6b38-492d-b872-c8286851947a"
      },
      "execution_count": 53,
      "outputs": [
        {
          "output_type": "execute_result",
          "data": {
            "text/plain": [
              "<matplotlib.axes._subplots.AxesSubplot at 0x7f0b58677310>"
            ]
          },
          "metadata": {},
          "execution_count": 53
        },
        {
          "output_type": "display_data",
          "data": {
            "text/plain": [
              "<Figure size 432x288 with 1 Axes>"
            ],
            "image/png": "[encoded data removed]"
          },
          "metadata": {
            "needs_background": "light"
          }
        }
      ]
    },
    {
      "cell_type": "code",
      "source": [
        "plt.stem(df1['quality'])"
      ],
      "metadata": {
        "colab": {
          "base_uri": "https://localhost:8080/",
          "height": 337
        },
        "id": "AQftFm-FLHWW",
        "outputId": "76073b0f-bb5a-4108-a579-c94f4578b472"
      },
      "execution_count": 54,
      "outputs": [
        {
          "output_type": "stream",
          "name": "stderr",
          "text": [
            "/usr/local/lib/python3.7/dist-packages/ipykernel_launcher.py:1: UserWarning: In Matplotlib 3.3 individual lines on a stem plot will be added as a LineCollection instead of individual lines. This significantly improves the performance of a stem plot. To remove this warning and switch to the new behaviour, set the \"use_line_collection\" keyword argument to True.\n",
            "  \"\"\"Entry point for launching an IPython kernel.\n"
          ]
        },
        {
          "output_type": "execute_result",
          "data": {
            "text/plain": [
              "<StemContainer object of 3 artists>"
            ]
          },
          "metadata": {},
          "execution_count": 54
        },
        {
          "output_type": "display_data",
          "data": {
            "text/plain": [
              "<Figure size 432x288 with 1 Axes>"
            ],
            "image/png": "[encoded data removed]"
          },
          "metadata": {
            "needs_background": "light"
          }
        }
      ]
    },
    {
      "cell_type": "code",
      "source": [],
      "metadata": {
        "id": "iACCghw-LiNl"
      },
      "execution_count": null,
      "outputs": []
    }
  ]
}